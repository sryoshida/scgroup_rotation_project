{
 "cells": [
  {
   "cell_type": "code",
   "execution_count": 1,
   "id": "22213b29-cad1-419b-ac6a-81f49bb3c331",
   "metadata": {},
   "outputs": [],
   "source": [
    "import numpy as np\n",
    "import cv2\n",
    "import matplotlib.pyplot as plt\n",
    "%matplotlib inline"
   ]
  },
  {
   "cell_type": "markdown",
   "id": "fc82fa17-5413-4ed7-acd5-38704125df81",
   "metadata": {},
   "source": [
    "#### Define functions"
   ]
  },
  {
   "cell_type": "code",
   "execution_count": 2,
   "id": "adb1e6f8-46b2-446f-989f-d977e00c27b6",
   "metadata": {},
   "outputs": [],
   "source": [
    "def pixelify(nm_value, px_size):\n",
    "    '''\n",
    "    converts value in nm to px using px size\n",
    "    returns value in px\n",
    "    '''\n",
    "    px_value = nm_value / px_size\n",
    "    return px_value\n",
    "\n",
    "def ecdf(data):\n",
    "    '''\n",
    "    Pass 1-D array or pd series\n",
    "    returns array of x values and eCDF values\n",
    "    '''\n",
    "    x = np.sort(data)\n",
    "    y = np.array(data, 'float')\n",
    "    fac = 1/len(x)\n",
    "    for i in range(len(y)):\n",
    "        y[i] = (i + 1)*fac\n",
    "    return x, y\n",
    "\n",
    "def pixelify_all(roi_x, roi_y, roi_z, slice_depth, mean_hub_rad, hub_rad_std, pixel_size):\n",
    "    '''\n",
    "    Converts all args from nm to px\n",
    "    returns all args except pixel_size in px \n",
    "    '''\n",
    "    # Microscope and HiLo parameters in px\n",
    "    roi_x_px = pixelify(roi_x, pixel_size)                 #px\n",
    "    roi_y_px = pixelify(roi_y, pixel_size)                 #px\n",
    "    roi_z_px = pixelify(roi_z, pixel_size)                 #px\n",
    "    slice_depth_px  = pixelify(slice_depth, pixel_size)    #px\n",
    "\n",
    "    # Hub properties in px\n",
    "    mean_hub_rad_px = pixelify(mean_hub_rad, pixel_size)   #px \n",
    "    hub_rad_std_px = pixelify(hub_rad_std, pixel_size)     #px\n",
    "    return roi_x_px, roi_y_px, roi_z_px, slice_depth_px, mean_hub_rad_px, hub_rad_std_px\n",
    "\n",
    "def volumenize(hub_rad_arr, pixel_size):\n",
    "    '''\n",
    "    Convert radius in pixels to volume in nm\n",
    "    returns volumes\n",
    "    '''\n",
    "    vol_arr = pixel_size * (4/3) * np.pi * hub_rad_arr**3\n",
    "    return vol_arr\n",
    "\n",
    "def initialize_arrays(roi_x_px, roi_y_px, roi_z_px, mean_hub_rad_px, hub_rad_std_px, hub_num, pixel_size):\n",
    "    '''\n",
    "    Initializes various arrays\n",
    "    '''\n",
    "    # Array for ROI in px\n",
    "    roi_arr = np.zeros([int(roi_x_px), int(roi_y_px), int(roi_z_px)])\n",
    "\n",
    "    # Array of hub radii in px\n",
    "    hub_rad_arr = np.random.normal(mean_hub_rad_px, hub_rad_std_px, hub_num)\n",
    "\n",
    "    # Arrays of hub center coordinates in px\n",
    "    x_centers = np.random.randint(0 + max(hub_rad_arr), roi_x_px - max(hub_rad_arr), size = hub_num)\n",
    "    y_centers = np.random.randint(0 + max(hub_rad_arr), roi_y_px - max(hub_rad_arr), size = hub_num)\n",
    "    z_centers = np.random.randint(0 + max(hub_rad_arr), roi_z_px - max(hub_rad_arr), size = hub_num)\n",
    "\n",
    "    # HiLo slice\n",
    "    slice_arr = np.zeros_like(roi_arr)\n",
    "\n",
    "    # True and HiLo hub volume arrays\n",
    "    true_hub_vol_arr = volumenize(hub_rad_arr, pixel_size)\n",
    "    HiLo_hub_vol_arr = np.zeros_like(true_hub_vol_arr)\n",
    "    return roi_arr, hub_rad_arr, x_centers, y_centers, z_centers, slice_arr, true_hub_vol_arr, HiLo_hub_vol_arr\n",
    "\n",
    "def generate_hubs(hub_rad_arr, z_centers, y_centers, x_centers, roi_arr):\n",
    "    '''\n",
    "    Randomly generates hub positions in roi_arr\n",
    "    returns updated roi_arr\n",
    "    '''\n",
    "    for i in range(len(hub_rad_arr)):\n",
    "        for z in range(int(np.floor(z_centers[i] - hub_rad_arr[i])), int(np.ceil(z_centers[i] + hub_rad_arr[i]))):\n",
    "            for y in range(int(np.floor(y_centers[i] - hub_rad_arr[i])), int(np.ceil(y_centers[i] + hub_rad_arr[i]))):\n",
    "                for x in range(int(np.floor(x_centers[i] - hub_rad_arr[i])), int(np.ceil(x_centers[i] + hub_rad_arr[i]))):\n",
    "                    if abs((x - x_centers[i])**2 + (y - y_centers[i])**2 + (z - z_centers[i])**2) < hub_rad_arr[i] ** 2:\n",
    "                        roi_arr[x][y][z] = 2\n",
    "    return roi_arr\n",
    "\n",
    "def generate_HiLo_slice(slice_depth_px, roi_z_px, slice_arr):\n",
    "    '''\n",
    "    Randomly generates HiLo slice in slice_arr\n",
    "    returns updated slice_arr and slice_center in pixels\n",
    "    '''\n",
    "    # Center of HiLo excitation slice generated randomly\n",
    "    slice_center_px = np.random.randint(0 + slice_depth_px/2, roi_z_px - slice_depth_px/2) #px\n",
    "\n",
    "    for z in range(int(np.round((slice_center_px - slice_depth_px/2))), int(np.round((slice_center_px + slice_depth_px/2)))):\n",
    "        slice_arr[:,:,z] = slice_arr[:,:,z] + 1\n",
    "    return slice_arr, slice_center_px\n",
    "\n",
    "def calculate_HiLo_hubs(roi_x_px, roi_y_px, roi_arr, slice_center_px, slice_depth_px, pixel_size):\n",
    "    '''\n",
    "    Calculates the volume of HiLo detected hubs\n",
    "    uses Hough transformation algorithm\n",
    "    returns array of volumes detected by algorithm within HiLo slice\n",
    "    '''\n",
    "    # Projected slice array\n",
    "    proj_slice_arr = np.zeros([int(roi_x_px), int(roi_y_px)]) \n",
    "    proj_slice_arr = np.sum(roi_arr[:,:,int(np.round((slice_center_px - slice_depth_px/2))) \\\n",
    "                                              :int(np.round((slice_center_px + slice_depth_px/2)))], axis = 2)\n",
    "\n",
    "    # Normalize\n",
    "    proj_slice_arr = proj_slice_arr/np.amax(proj_slice_arr)\n",
    "\n",
    "    # Convert to 8-bit\n",
    "    image = np.array(proj_slice_arr * 255, dtype = np.uint8)\n",
    "\n",
    "    # Detect circles\n",
    "    circles = cv2.HoughCircles(image, cv2.HOUGH_GRADIENT, 1.2, 2 * int(np.round(min(hub_rad_arr))),\n",
    "                  param1 = 50,\n",
    "                  param2 = 12,\n",
    "                  minRadius = int(np.round(min(hub_rad_arr))),\n",
    "                  maxRadius = int(np.round(max(hub_rad_arr))))\n",
    "\n",
    "    # Blank slide\n",
    "    blank = np.zeros_like(proj_slice_arr)\n",
    "    blank_image = np.array(blank * 255, dtype = np.uint8)\n",
    "\n",
    "    # Calculate detected hub volume\n",
    "    HiLo_hub_vol_arr = volumenize(circles[:,:,2].flatten(), pixel_size)\n",
    "    \n",
    "    return HiLo_hub_vol_arr\n"
   ]
  },
  {
   "cell_type": "markdown",
   "id": "3051b2b1-bd7a-4f87-9695-3da458b82eae",
   "metadata": {},
   "source": [
    "#### Define simulation parameters"
   ]
  },
  {
   "cell_type": "code",
   "execution_count": 3,
   "id": "b708cb5f-0eb6-40e6-9f85-da42723f813c",
   "metadata": {},
   "outputs": [],
   "source": [
    "# Microscope and HiLo parameters\n",
    "pixel_size = 100      #nm/px in x, y\n",
    "roi_x = 15000        #nm\n",
    "roi_y = 15000        #nm\n",
    "roi_z = 15000        #nm\n",
    "slice_depth = 1000   #nm\n",
    "\n",
    "# Hub properties\n",
    "mean_hub_rad = 500   #nm\n",
    "hub_rad_std = 50    #nm\n",
    "hub_num = 100        #number\n",
    "\n",
    "# Iterations\n",
    "iterations = 100"
   ]
  },
  {
   "cell_type": "markdown",
   "id": "9972ffa5-1a49-4021-bee2-1509ab9e6d6e",
   "metadata": {},
   "source": [
    "#### Run simulation over $iterations$ iterations, and generate array of true volumes vs detected volumes"
   ]
  },
  {
   "cell_type": "code",
   "execution_count": 4,
   "id": "6bd3b03a-4e25-432d-b65e-fead95e1cde3",
   "metadata": {},
   "outputs": [],
   "source": [
    "true_list = []\n",
    "HiLo_list = []\n",
    "\n",
    "for x in range(0, iterations):\n",
    "    # Convert parameters from nm to px\n",
    "    roi_x_px, roi_y_px, roi_z_px, slice_depth_px, mean_hub_rad_px, hub_rad_std_px = \\\n",
    "            pixelify_all(roi_x, roi_y, roi_z, slice_depth, mean_hub_rad, hub_rad_std, pixel_size)\n",
    "\n",
    "    # Initialize relevant arrays\n",
    "    roi_arr, hub_rad_arr, x_centers, y_centers, z_centers, slice_arr, true_hub_vol_arr, HiLo_hub_vol_arr = \\\n",
    "            initialize_arrays(roi_x_px, roi_y_px, roi_z_px, mean_hub_rad_px, hub_rad_std_px, hub_num, pixel_size)\n",
    "\n",
    "    # Generate hubs\n",
    "    roi_arr = generate_hubs(hub_rad_arr, z_centers, y_centers, x_centers, roi_arr)\n",
    "\n",
    "    # Generate HiLo slice\n",
    "    slice_arr, slice_center_px = generate_HiLo_slice(slice_depth_px, roi_z_px, slice_arr)\n",
    "\n",
    "    # Calculate HiLo hub sizes\n",
    "    HiLo_hub_vol_arr = calculate_HiLo_hubs(roi_x_px, roi_y_px, roi_arr, slice_center_px, slice_depth_px, pixel_size)\n",
    "    \n",
    "    true_list = true_list + list(true_hub_vol_arr)\n",
    "    HiLo_list = HiLo_list + list(HiLo_hub_vol_arr)"
   ]
  },
  {
   "cell_type": "markdown",
   "id": "57944c1b-229d-4ee8-bc1c-16892d28769e",
   "metadata": {},
   "source": [
    "#### Plot eCDF of true hub volumes"
   ]
  },
  {
   "cell_type": "code",
   "execution_count": 5,
   "id": "5dfca11a-7b31-4bbe-970d-86aec90c10bf",
   "metadata": {},
   "outputs": [
    {
     "data": {
      "image/png": "[encoded data removed]",
      "text/plain": [
       "<Figure size 1008x504 with 2 Axes>"
      ]
     },
     "metadata": {
      "needs_background": "light"
     },
     "output_type": "display_data"
    }
   ],
   "source": [
    "true_arr = np.array(true_list)\n",
    "HiLo_arr = np.array(HiLo_list)\n",
    "\n",
    "true_size, true_cum = ecdf(true_arr)\n",
    "HiLo_size, HiLo_cum = ecdf(HiLo_arr)\n",
    "\n",
    "\n",
    "fig, (ax1, ax2) = plt.subplots(1, 2,figsize=(14,7))\n",
    "fig.suptitle('eCDF of hub volumes: true vs detected')\n",
    "ax1.scatter(true_size, true_cum)\n",
    "ax2.scatter(HiLo_size, HiLo_cum)\n",
    "ax1.set_xlabel(r'Hub volume ($nm^3$)')\n",
    "ax2.set_xlabel(r'Hub volume ($nm^3$)')\n",
    "ax1.set_ylabel('% of hubs');"
   ]
  },
  {
   "cell_type": "code",
   "execution_count": 6,
   "id": "3b5b884c-d247-4a4e-9afa-3ef601fee6ea",
   "metadata": {},
   "outputs": [
    {
     "name": "stdout",
     "output_type": "stream",
     "text": [
      "Author: Shawn Yoshida\n",
      "\n",
      "Python implementation: CPython\n",
      "Python version       : 3.8.11\n",
      "IPython version      : 7.27.0\n",
      "\n",
      "jupyterlab: 3.1.7\n",
      "\n",
      "matplotlib: 3.4.2\n",
      "numpy     : 1.20.3\n",
      "cv2       : 4.5.3\n",
      "\n"
     ]
    }
   ],
   "source": [
    "%load_ext watermark\n",
    "%watermark -a \"Shawn Yoshida\" -d -v -p jupyterlab --iversions"
   ]
  }
 ],
 "metadata": {
  "kernelspec": {
   "display_name": "Python 3 (ipykernel)",
   "language": "python",
   "name": "python3"
  },
  "language_info": {
   "codemirror_mode": {
    "name": "ipython",
    "version": 3
   },
   "file_extension": ".py",
   "mimetype": "text/x-python",
   "name": "python",
   "nbconvert_exporter": "python",
   "pygments_lexer": "ipython3",
   "version": "3.8.11"
  }
 },
 "nbformat": 4,
 "nbformat_minor": 5
}
